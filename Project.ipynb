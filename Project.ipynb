{
 "cells": [
  {
   "cell_type": "markdown",
   "metadata": {},
   "source": [
    "# **Project: AirBnB Price Prediction**\n"
   ]
  },
  {
   "cell_type": "markdown",
   "metadata": {},
   "source": [
    "## 1. Import Libraries"
   ]
  },
  {
   "cell_type": "code",
   "execution_count": 1,
   "metadata": {},
   "outputs": [],
   "source": [
    "import pandas as pd\n",
    "import numpy as np\n",
    "import matplotlib.pyplot as plt\n",
    "import seaborn as sns\n",
    "from sklearn.preprocessing import LabelBinarizer\n",
    "from sklearn.decomposition import PCA\n",
    "from sklearn.model_selection import KFold, GridSearchCV\n",
    "from sklearn.linear_model import LinearRegression, Ridge, Lasso, LogisticRegression\n",
    "from sklearn.metrics import mean_squared_error as mse\n",
    "from sklearn.metrics import confusion_matrix as conMatrix\n",
    "from sklearn.metrics import classification_report as ClassR\n",
    "from sklearn.svm import SVC, LinearSVC\n",
    "from sklearn.neighbors import KNeighborsClassifier\n",
    "from mlxtend.feature_selection import SequentialFeatureSelector as sfs\n",
    "from mlxtend.plotting import plot_sequential_feature_selection as plot_sfs\n",
    "from uszipcode import Zipcode, SearchEngine\n",
    "search = SearchEngine(simple_zipcode=True)\n",
    "\n",
    "%matplotlib inline"
   ]
  },
  {
   "cell_type": "markdown",
   "metadata": {},
   "source": [
    "## 2. Importing data and Data cleaning (i.e. handling missing data, etc)\n",
    "\n",
    "### 2.a) Importing Data"
   ]
  },
  {
   "cell_type": "code",
   "execution_count": 2,
   "metadata": {},
   "outputs": [],
   "source": [
    "train_df = pd.read_csv(\"./airbnb-listings-in-major-us-cities-deloitte-ml/train.csv\")\n",
    "test_df = pd.read_csv(\"./airbnb-listings-in-major-us-cities-deloitte-ml/test.csv\")"
   ]
  },
  {
   "cell_type": "markdown",
   "metadata": {},
   "source": [
    "### 2.b) Check for missing values"
   ]
  },
  {
   "cell_type": "code",
   "execution_count": 3,
   "metadata": {},
   "outputs": [
    {
     "data": {
      "text/html": [
       "<div>\n",
       "<style scoped>\n",
       "    .dataframe tbody tr th:only-of-type {\n",
       "        vertical-align: middle;\n",
       "    }\n",
       "\n",
       "    .dataframe tbody tr th {\n",
       "        vertical-align: top;\n",
       "    }\n",
       "\n",
       "    .dataframe thead th {\n",
       "        text-align: right;\n",
       "    }\n",
       "</style>\n",
       "<table border=\"1\" class=\"dataframe\">\n",
       "  <thead>\n",
       "    <tr style=\"text-align: right;\">\n",
       "      <th></th>\n",
       "      <th>column_name</th>\n",
       "      <th>missing_count</th>\n",
       "    </tr>\n",
       "  </thead>\n",
       "  <tbody>\n",
       "    <tr>\n",
       "      <th>27</th>\n",
       "      <td>bedrooms</td>\n",
       "      <td>91</td>\n",
       "    </tr>\n",
       "    <tr>\n",
       "      <th>28</th>\n",
       "      <td>beds</td>\n",
       "      <td>131</td>\n",
       "    </tr>\n",
       "    <tr>\n",
       "      <th>13</th>\n",
       "      <td>host_has_profile_pic</td>\n",
       "      <td>188</td>\n",
       "    </tr>\n",
       "    <tr>\n",
       "      <th>14</th>\n",
       "      <td>host_identity_verified</td>\n",
       "      <td>188</td>\n",
       "    </tr>\n",
       "    <tr>\n",
       "      <th>16</th>\n",
       "      <td>host_since</td>\n",
       "      <td>188</td>\n",
       "    </tr>\n",
       "    <tr>\n",
       "      <th>6</th>\n",
       "      <td>bathrooms</td>\n",
       "      <td>200</td>\n",
       "    </tr>\n",
       "    <tr>\n",
       "      <th>26</th>\n",
       "      <td>zipcode</td>\n",
       "      <td>966</td>\n",
       "    </tr>\n",
       "    <tr>\n",
       "      <th>22</th>\n",
       "      <td>neighbourhood</td>\n",
       "      <td>6872</td>\n",
       "    </tr>\n",
       "    <tr>\n",
       "      <th>25</th>\n",
       "      <td>thumbnail_url</td>\n",
       "      <td>8216</td>\n",
       "    </tr>\n",
       "    <tr>\n",
       "      <th>18</th>\n",
       "      <td>last_review</td>\n",
       "      <td>15827</td>\n",
       "    </tr>\n",
       "    <tr>\n",
       "      <th>12</th>\n",
       "      <td>first_review</td>\n",
       "      <td>15864</td>\n",
       "    </tr>\n",
       "    <tr>\n",
       "      <th>24</th>\n",
       "      <td>review_scores_rating</td>\n",
       "      <td>16722</td>\n",
       "    </tr>\n",
       "    <tr>\n",
       "      <th>15</th>\n",
       "      <td>host_response_rate</td>\n",
       "      <td>18299</td>\n",
       "    </tr>\n",
       "  </tbody>\n",
       "</table>\n",
       "</div>"
      ],
      "text/plain": [
       "               column_name  missing_count\n",
       "27                bedrooms             91\n",
       "28                    beds            131\n",
       "13    host_has_profile_pic            188\n",
       "14  host_identity_verified            188\n",
       "16              host_since            188\n",
       "6                bathrooms            200\n",
       "26                 zipcode            966\n",
       "22           neighbourhood           6872\n",
       "25           thumbnail_url           8216\n",
       "18             last_review          15827\n",
       "12            first_review          15864\n",
       "24    review_scores_rating          16722\n",
       "15      host_response_rate          18299"
      ]
     },
     "execution_count": 3,
     "metadata": {},
     "output_type": "execute_result"
    }
   ],
   "source": [
    "missing_df = train_df.isnull().sum(axis=0).reset_index()\n",
    "missing_df.columns = ['column_name', 'missing_count']\n",
    "missing_df = missing_df.loc[missing_df['missing_count']>0]\n",
    "missing_df = missing_df.sort_values(by='missing_count')\n",
    "missing_df"
   ]
  },
  {
   "cell_type": "markdown",
   "metadata": {},
   "source": [
    "### 2.c) Handling missing values in both train and test dataframe"
   ]
  },
  {
   "cell_type": "code",
   "execution_count": 4,
   "metadata": {},
   "outputs": [
    {
     "name": "stderr",
     "output_type": "stream",
     "text": [
      "C:\\Users\\sanke_000\\Anaconda3\\lib\\site-packages\\ipykernel_launcher.py:69: SettingWithCopyWarning: \n",
      "A value is trying to be set on a copy of a slice from a DataFrame\n",
      "\n",
      "See the caveats in the documentation: http://pandas.pydata.org/pandas-docs/stable/indexing.html#indexing-view-versus-copy\n",
      "C:\\Users\\sanke_000\\Anaconda3\\lib\\site-packages\\ipykernel_launcher.py:77: SettingWithCopyWarning: \n",
      "A value is trying to be set on a copy of a slice from a DataFrame\n",
      "\n",
      "See the caveats in the documentation: http://pandas.pydata.org/pandas-docs/stable/indexing.html#indexing-view-versus-copy\n"
     ]
    }
   ],
   "source": [
    "# 'bathrooms'\n",
    "train_df['bathrooms'] = train_df['bathrooms'].fillna(0)\n",
    "test_df['bathrooms'] = test_df['bathrooms'].fillna(0)\n",
    "\n",
    "# 'bedrooms'\n",
    "train_df['bedrooms'] = train_df['bedrooms'].fillna(0)\n",
    "test_df['bedrooms'] = test_df['bedrooms'].fillna(0)\n",
    "\n",
    "# 'beds' \n",
    "train_df['beds'] = train_df['beds'].fillna(0)\n",
    "test_df['beds'] = test_df['beds'].fillna(0)\n",
    "\n",
    "# 'host_has_profile_pic'\n",
    "train_df.loc[train_df.host_has_profile_pic == 't', 'host_has_profile_pic'] = 1\n",
    "train_df.loc[train_df.host_has_profile_pic == 'f', 'host_has_profile_pic'] = 0\n",
    "train_df['host_has_profile_pic'] = train_df['host_has_profile_pic'].fillna(0)\n",
    "test_df.loc[test_df.host_has_profile_pic == 't', 'host_has_profile_pic'] = 1\n",
    "test_df.loc[test_df.host_has_profile_pic == 'f', 'host_has_profile_pic'] = 0\n",
    "test_df['host_has_profile_pic'] = test_df['host_has_profile_pic'].fillna(0)\n",
    "\n",
    "# 'neighbourhood'\n",
    "train_df['neighbourhood'] = train_df['neighbourhood'].fillna('Unknown')\n",
    "test_df['neighbourhood'] = test_df['neighbourhood'].fillna('Unknown')\n",
    "\n",
    "# 'review_scores_rating'\n",
    "train_df['review_scores_rating'] = train_df['review_scores_rating'].fillna(0)\n",
    "test_df['review_scores_rating'] = test_df['review_scores_rating'].fillna(0)\n",
    "\n",
    "# 'host_response_rate'\n",
    "train_df['host_response_rate'] = train_df['host_response_rate'].str.replace('%','')\n",
    "train_df['host_response_rate'] = train_df['host_response_rate'].fillna('0')\n",
    "train_df['host_response_rate'] = pd.to_numeric(train_df['host_response_rate'])\n",
    "test_df['host_response_rate'] = test_df['host_response_rate'].str.replace('%','')\n",
    "test_df['host_response_rate'] = test_df['host_response_rate'].fillna('0')\n",
    "test_df['host_response_rate'] = pd.to_numeric(test_df['host_response_rate'])\n",
    "\n",
    "# 'thumbnai_url'\n",
    "train_df['thumbnail_url'] = train_df['thumbnail_url'].fillna('Unknown')\n",
    "test_df['thumbnail_url'] = test_df['thumbnail_url'].fillna('Unknown')\n",
    "\n",
    "# 'last_review'\n",
    "train_df['last_review'] = train_df['last_review'].fillna('00-00-00')\n",
    "test_df['last_review'] = test_df['last_review'].fillna('00-00-00')\n",
    "\n",
    "# 'first_review'\n",
    "train_df['first_review'] = train_df['first_review'].fillna('00-00-00')\n",
    "test_df['first_review'] = test_df['first_review'].fillna('00-00-00')\n",
    "\n",
    "# 'host_since'\n",
    "train_df['host_since'] = train_df['host_since'].fillna('00-00-00')\n",
    "test_df['host_since'] = test_df['host_since'].fillna('00-00-00')\n",
    "\n",
    "# 'host_identity_verified'\n",
    "train_df.loc[train_df.host_identity_verified == 't', 'host_identity_verified'] = 1\n",
    "train_df.loc[train_df.host_identity_verified == 'f', 'host_identity_verified'] = 0\n",
    "train_df['host_identity_verified'] = train_df['host_identity_verified'].fillna(0)\n",
    "test_df.loc[test_df.host_identity_verified == 't', 'host_identity_verified'] = 1\n",
    "test_df.loc[test_df.host_identity_verified == 'f', 'host_identity_verified'] = 0\n",
    "test_df['host_identity_verified'] = test_df['host_identity_verified'].fillna(0)\n",
    "\n",
    "# 'zipcode', ***this might take some time, but works perfect***\n",
    "train_df['zipcode'] = train_df['zipcode'].fillna(0)\n",
    "train_df.loc[train_df.zipcode == ' ', 'zipcode'] = 0\n",
    "idx = train_df.index[train_df['zipcode']==0].tolist()\n",
    "for i in idx:\n",
    "    lat = train_df['latitude'][i]\n",
    "    lon = train_df['longitude'][i]\n",
    "    result = np.max(search.by_coordinates(lat, lon, radius=30, returns=5))\n",
    "    train_df['zipcode'][i]=result.values()[0]    \n",
    "test_df['zipcode'] = test_df['zipcode'].fillna(0)\n",
    "test_df.loc[test_df.zipcode == ' ', 'zipcode'] = 0\n",
    "idx = test_df.index[test_df['zipcode']==0].tolist()\n",
    "for i in idx:\n",
    "    lat = test_df['latitude'][i]\n",
    "    lon = test_df['longitude'][i]\n",
    "    result = np.max(search.by_coordinates(lat, lon, radius=30, returns=5))\n",
    "    test_df['zipcode'][i]=result.values()[0]    "
   ]
  },
  {
   "cell_type": "code",
   "execution_count": 5,
   "metadata": {},
   "outputs": [
    {
     "data": {
      "text/html": [
       "<div>\n",
       "<style scoped>\n",
       "    .dataframe tbody tr th:only-of-type {\n",
       "        vertical-align: middle;\n",
       "    }\n",
       "\n",
       "    .dataframe tbody tr th {\n",
       "        vertical-align: top;\n",
       "    }\n",
       "\n",
       "    .dataframe thead th {\n",
       "        text-align: right;\n",
       "    }\n",
       "</style>\n",
       "<table border=\"1\" class=\"dataframe\">\n",
       "  <thead>\n",
       "    <tr style=\"text-align: right;\">\n",
       "      <th></th>\n",
       "      <th>column_name</th>\n",
       "      <th>missing_count</th>\n",
       "    </tr>\n",
       "  </thead>\n",
       "  <tbody>\n",
       "  </tbody>\n",
       "</table>\n",
       "</div>"
      ],
      "text/plain": [
       "Empty DataFrame\n",
       "Columns: [column_name, missing_count]\n",
       "Index: []"
      ]
     },
     "execution_count": 5,
     "metadata": {},
     "output_type": "execute_result"
    }
   ],
   "source": [
    "# Again check for missing values in the test dataframe\n",
    "missing_df = train_df.isnull().sum(axis=0).reset_index()\n",
    "missing_df.columns = ['column_name', 'missing_count']\n",
    "missing_df = missing_df.loc[missing_df['missing_count']>0]\n",
    "missing_df = missing_df.sort_values(by='missing_count')\n",
    "missing_df"
   ]
  },
  {
   "cell_type": "code",
   "execution_count": 6,
   "metadata": {},
   "outputs": [],
   "source": [
    "train_df['int_price'] = np.exp(train_df['log_price'])"
   ]
  },
  {
   "cell_type": "markdown",
   "metadata": {},
   "source": [
    "## 3. Data Visualization\n",
    "### 3.a) Plot 1: Integer Pricing per City"
   ]
  },
  {
   "cell_type": "code",
   "execution_count": 7,
   "metadata": {},
   "outputs": [
    {
     "data": {
      "image/png": "[encoded data removed]",
      "text/plain": [
       "<Figure size 432x288 with 1 Axes>"
      ]
     },
     "metadata": {},
     "output_type": "display_data"
    }
   ],
   "source": [
    "plot1 = sns.barplot(x='city',y='int_price',data=train_df)\n",
    "fig = plot1.get_figure()\n",
    "fig.savefig('./plot1.png')"
   ]
  },
  {
   "cell_type": "markdown",
   "metadata": {},
   "source": [
    "### 3.b) Plot 2: Average pricing for Property Type w.r.to City"
   ]
  },
  {
   "cell_type": "code",
   "execution_count": 9,
   "metadata": {},
   "outputs": [
    {
     "data": {
      "text/html": [
       "<div>\n",
       "<style scoped>\n",
       "    .dataframe tbody tr th:only-of-type {\n",
       "        vertical-align: middle;\n",
       "    }\n",
       "\n",
       "    .dataframe tbody tr th {\n",
       "        vertical-align: top;\n",
       "    }\n",
       "\n",
       "    .dataframe thead th {\n",
       "        text-align: right;\n",
       "    }\n",
       "</style>\n",
       "<table border=\"1\" class=\"dataframe\">\n",
       "  <thead>\n",
       "    <tr style=\"text-align: right;\">\n",
       "      <th>city</th>\n",
       "      <th>Boston</th>\n",
       "      <th>Chicago</th>\n",
       "      <th>DC</th>\n",
       "      <th>LA</th>\n",
       "      <th>NYC</th>\n",
       "      <th>SF</th>\n",
       "    </tr>\n",
       "    <tr>\n",
       "      <th>property_type</th>\n",
       "      <th></th>\n",
       "      <th></th>\n",
       "      <th></th>\n",
       "      <th></th>\n",
       "      <th></th>\n",
       "      <th></th>\n",
       "    </tr>\n",
       "  </thead>\n",
       "  <tbody>\n",
       "    <tr>\n",
       "      <th>Apartment</th>\n",
       "      <td>167.716744</td>\n",
       "      <td>122.763368</td>\n",
       "      <td>199.836840</td>\n",
       "      <td>124.099510</td>\n",
       "      <td>139.850646</td>\n",
       "      <td>215.796375</td>\n",
       "    </tr>\n",
       "    <tr>\n",
       "      <th>Bed &amp; Breakfast</th>\n",
       "      <td>105.705882</td>\n",
       "      <td>111.000000</td>\n",
       "      <td>143.823529</td>\n",
       "      <td>97.254310</td>\n",
       "      <td>134.021053</td>\n",
       "      <td>150.196078</td>\n",
       "    </tr>\n",
       "    <tr>\n",
       "      <th>Boat</th>\n",
       "      <td>358.800000</td>\n",
       "      <td>367.666667</td>\n",
       "      <td>82.666667</td>\n",
       "      <td>181.103448</td>\n",
       "      <td>146.000000</td>\n",
       "      <td>404.000000</td>\n",
       "    </tr>\n",
       "    <tr>\n",
       "      <th>Boutique hotel</th>\n",
       "      <td>149.000000</td>\n",
       "      <td>215.500000</td>\n",
       "      <td>142.375000</td>\n",
       "      <td>104.000000</td>\n",
       "      <td>347.812500</td>\n",
       "      <td>202.142857</td>\n",
       "    </tr>\n",
       "    <tr>\n",
       "      <th>Bungalow</th>\n",
       "      <td>NaN</td>\n",
       "      <td>99.333333</td>\n",
       "      <td>172.500000</td>\n",
       "      <td>133.029326</td>\n",
       "      <td>144.166667</td>\n",
       "      <td>227.000000</td>\n",
       "    </tr>\n",
       "    <tr>\n",
       "      <th>Cabin</th>\n",
       "      <td>NaN</td>\n",
       "      <td>NaN</td>\n",
       "      <td>110.000000</td>\n",
       "      <td>111.180328</td>\n",
       "      <td>176.666667</td>\n",
       "      <td>154.714286</td>\n",
       "    </tr>\n",
       "    <tr>\n",
       "      <th>Camper/RV</th>\n",
       "      <td>NaN</td>\n",
       "      <td>NaN</td>\n",
       "      <td>NaN</td>\n",
       "      <td>129.321429</td>\n",
       "      <td>NaN</td>\n",
       "      <td>160.400000</td>\n",
       "    </tr>\n",
       "    <tr>\n",
       "      <th>Casa particular</th>\n",
       "      <td>NaN</td>\n",
       "      <td>NaN</td>\n",
       "      <td>NaN</td>\n",
       "      <td>80.000000</td>\n",
       "      <td>NaN</td>\n",
       "      <td>NaN</td>\n",
       "    </tr>\n",
       "    <tr>\n",
       "      <th>Castle</th>\n",
       "      <td>NaN</td>\n",
       "      <td>NaN</td>\n",
       "      <td>199.000000</td>\n",
       "      <td>283.750000</td>\n",
       "      <td>175.000000</td>\n",
       "      <td>228.333333</td>\n",
       "    </tr>\n",
       "    <tr>\n",
       "      <th>Cave</th>\n",
       "      <td>NaN</td>\n",
       "      <td>NaN</td>\n",
       "      <td>NaN</td>\n",
       "      <td>125.000000</td>\n",
       "      <td>NaN</td>\n",
       "      <td>147.000000</td>\n",
       "    </tr>\n",
       "    <tr>\n",
       "      <th>Chalet</th>\n",
       "      <td>NaN</td>\n",
       "      <td>NaN</td>\n",
       "      <td>NaN</td>\n",
       "      <td>105.666667</td>\n",
       "      <td>150.000000</td>\n",
       "      <td>NaN</td>\n",
       "    </tr>\n",
       "    <tr>\n",
       "      <th>Condominium</th>\n",
       "      <td>182.657817</td>\n",
       "      <td>149.780193</td>\n",
       "      <td>286.354430</td>\n",
       "      <td>150.338346</td>\n",
       "      <td>215.969412</td>\n",
       "      <td>276.100200</td>\n",
       "    </tr>\n",
       "    <tr>\n",
       "      <th>Dorm</th>\n",
       "      <td>65.000000</td>\n",
       "      <td>50.333333</td>\n",
       "      <td>43.947368</td>\n",
       "      <td>42.102564</td>\n",
       "      <td>73.000000</td>\n",
       "      <td>84.333333</td>\n",
       "    </tr>\n",
       "    <tr>\n",
       "      <th>Earth House</th>\n",
       "      <td>NaN</td>\n",
       "      <td>NaN</td>\n",
       "      <td>NaN</td>\n",
       "      <td>383.333333</td>\n",
       "      <td>275.000000</td>\n",
       "      <td>NaN</td>\n",
       "    </tr>\n",
       "    <tr>\n",
       "      <th>Guest suite</th>\n",
       "      <td>99.875000</td>\n",
       "      <td>66.333333</td>\n",
       "      <td>71.400000</td>\n",
       "      <td>104.368421</td>\n",
       "      <td>140.153846</td>\n",
       "      <td>150.413043</td>\n",
       "    </tr>\n",
       "    <tr>\n",
       "      <th>Guesthouse</th>\n",
       "      <td>154.500000</td>\n",
       "      <td>163.153846</td>\n",
       "      <td>122.800000</td>\n",
       "      <td>123.459854</td>\n",
       "      <td>100.343750</td>\n",
       "      <td>159.214286</td>\n",
       "    </tr>\n",
       "    <tr>\n",
       "      <th>Hostel</th>\n",
       "      <td>128.250000</td>\n",
       "      <td>60.000000</td>\n",
       "      <td>36.000000</td>\n",
       "      <td>37.394737</td>\n",
       "      <td>76.750000</td>\n",
       "      <td>79.500000</td>\n",
       "    </tr>\n",
       "    <tr>\n",
       "      <th>House</th>\n",
       "      <td>139.660746</td>\n",
       "      <td>142.534636</td>\n",
       "      <td>238.242254</td>\n",
       "      <td>190.227323</td>\n",
       "      <td>131.199628</td>\n",
       "      <td>241.306519</td>\n",
       "    </tr>\n",
       "    <tr>\n",
       "      <th>Hut</th>\n",
       "      <td>NaN</td>\n",
       "      <td>NaN</td>\n",
       "      <td>NaN</td>\n",
       "      <td>63.625000</td>\n",
       "      <td>NaN</td>\n",
       "      <td>NaN</td>\n",
       "    </tr>\n",
       "    <tr>\n",
       "      <th>In-law</th>\n",
       "      <td>80.750000</td>\n",
       "      <td>45.000000</td>\n",
       "      <td>101.500000</td>\n",
       "      <td>77.333333</td>\n",
       "      <td>116.000000</td>\n",
       "      <td>152.450980</td>\n",
       "    </tr>\n",
       "    <tr>\n",
       "      <th>Island</th>\n",
       "      <td>NaN</td>\n",
       "      <td>NaN</td>\n",
       "      <td>NaN</td>\n",
       "      <td>150.000000</td>\n",
       "      <td>NaN</td>\n",
       "      <td>NaN</td>\n",
       "    </tr>\n",
       "    <tr>\n",
       "      <th>Lighthouse</th>\n",
       "      <td>NaN</td>\n",
       "      <td>NaN</td>\n",
       "      <td>NaN</td>\n",
       "      <td>250.000000</td>\n",
       "      <td>NaN</td>\n",
       "      <td>NaN</td>\n",
       "    </tr>\n",
       "    <tr>\n",
       "      <th>Loft</th>\n",
       "      <td>203.708333</td>\n",
       "      <td>168.867647</td>\n",
       "      <td>303.928571</td>\n",
       "      <td>183.529412</td>\n",
       "      <td>207.028526</td>\n",
       "      <td>273.776471</td>\n",
       "    </tr>\n",
       "    <tr>\n",
       "      <th>Other</th>\n",
       "      <td>203.750000</td>\n",
       "      <td>303.206897</td>\n",
       "      <td>242.307692</td>\n",
       "      <td>197.060345</td>\n",
       "      <td>196.068627</td>\n",
       "      <td>266.416667</td>\n",
       "    </tr>\n",
       "    <tr>\n",
       "      <th>Parking Space</th>\n",
       "      <td>NaN</td>\n",
       "      <td>NaN</td>\n",
       "      <td>NaN</td>\n",
       "      <td>100.000000</td>\n",
       "      <td>NaN</td>\n",
       "      <td>NaN</td>\n",
       "    </tr>\n",
       "    <tr>\n",
       "      <th>Serviced apartment</th>\n",
       "      <td>129.000000</td>\n",
       "      <td>NaN</td>\n",
       "      <td>135.000000</td>\n",
       "      <td>143.800000</td>\n",
       "      <td>225.625000</td>\n",
       "      <td>1200.000000</td>\n",
       "    </tr>\n",
       "    <tr>\n",
       "      <th>Tent</th>\n",
       "      <td>NaN</td>\n",
       "      <td>NaN</td>\n",
       "      <td>NaN</td>\n",
       "      <td>72.375000</td>\n",
       "      <td>250.000000</td>\n",
       "      <td>98.000000</td>\n",
       "    </tr>\n",
       "    <tr>\n",
       "      <th>Timeshare</th>\n",
       "      <td>265.000000</td>\n",
       "      <td>NaN</td>\n",
       "      <td>NaN</td>\n",
       "      <td>NaN</td>\n",
       "      <td>328.590909</td>\n",
       "      <td>288.400000</td>\n",
       "    </tr>\n",
       "    <tr>\n",
       "      <th>Tipi</th>\n",
       "      <td>NaN</td>\n",
       "      <td>NaN</td>\n",
       "      <td>NaN</td>\n",
       "      <td>232.333333</td>\n",
       "      <td>NaN</td>\n",
       "      <td>NaN</td>\n",
       "    </tr>\n",
       "    <tr>\n",
       "      <th>Townhouse</th>\n",
       "      <td>197.796296</td>\n",
       "      <td>165.885246</td>\n",
       "      <td>238.120588</td>\n",
       "      <td>141.521079</td>\n",
       "      <td>190.401338</td>\n",
       "      <td>195.717391</td>\n",
       "    </tr>\n",
       "    <tr>\n",
       "      <th>Train</th>\n",
       "      <td>NaN</td>\n",
       "      <td>NaN</td>\n",
       "      <td>170.000000</td>\n",
       "      <td>195.000000</td>\n",
       "      <td>NaN</td>\n",
       "      <td>NaN</td>\n",
       "    </tr>\n",
       "    <tr>\n",
       "      <th>Treehouse</th>\n",
       "      <td>NaN</td>\n",
       "      <td>NaN</td>\n",
       "      <td>25.000000</td>\n",
       "      <td>368.500000</td>\n",
       "      <td>NaN</td>\n",
       "      <td>227.500000</td>\n",
       "    </tr>\n",
       "    <tr>\n",
       "      <th>Vacation home</th>\n",
       "      <td>NaN</td>\n",
       "      <td>389.000000</td>\n",
       "      <td>NaN</td>\n",
       "      <td>266.000000</td>\n",
       "      <td>265.666667</td>\n",
       "      <td>NaN</td>\n",
       "    </tr>\n",
       "    <tr>\n",
       "      <th>Villa</th>\n",
       "      <td>125.000000</td>\n",
       "      <td>33.000000</td>\n",
       "      <td>160.000000</td>\n",
       "      <td>424.548387</td>\n",
       "      <td>130.846154</td>\n",
       "      <td>99.000000</td>\n",
       "    </tr>\n",
       "    <tr>\n",
       "      <th>Yurt</th>\n",
       "      <td>NaN</td>\n",
       "      <td>NaN</td>\n",
       "      <td>NaN</td>\n",
       "      <td>160.666667</td>\n",
       "      <td>95.000000</td>\n",
       "      <td>206.000000</td>\n",
       "    </tr>\n",
       "  </tbody>\n",
       "</table>\n",
       "</div>"
      ],
      "text/plain": [
       "city                    Boston     Chicago          DC          LA  \\\n",
       "property_type                                                        \n",
       "Apartment           167.716744  122.763368  199.836840  124.099510   \n",
       "Bed & Breakfast     105.705882  111.000000  143.823529   97.254310   \n",
       "Boat                358.800000  367.666667   82.666667  181.103448   \n",
       "Boutique hotel      149.000000  215.500000  142.375000  104.000000   \n",
       "Bungalow                   NaN   99.333333  172.500000  133.029326   \n",
       "Cabin                      NaN         NaN  110.000000  111.180328   \n",
       "Camper/RV                  NaN         NaN         NaN  129.321429   \n",
       "Casa particular            NaN         NaN         NaN   80.000000   \n",
       "Castle                     NaN         NaN  199.000000  283.750000   \n",
       "Cave                       NaN         NaN         NaN  125.000000   \n",
       "Chalet                     NaN         NaN         NaN  105.666667   \n",
       "Condominium         182.657817  149.780193  286.354430  150.338346   \n",
       "Dorm                 65.000000   50.333333   43.947368   42.102564   \n",
       "Earth House                NaN         NaN         NaN  383.333333   \n",
       "Guest suite          99.875000   66.333333   71.400000  104.368421   \n",
       "Guesthouse          154.500000  163.153846  122.800000  123.459854   \n",
       "Hostel              128.250000   60.000000   36.000000   37.394737   \n",
       "House               139.660746  142.534636  238.242254  190.227323   \n",
       "Hut                        NaN         NaN         NaN   63.625000   \n",
       "In-law               80.750000   45.000000  101.500000   77.333333   \n",
       "Island                     NaN         NaN         NaN  150.000000   \n",
       "Lighthouse                 NaN         NaN         NaN  250.000000   \n",
       "Loft                203.708333  168.867647  303.928571  183.529412   \n",
       "Other               203.750000  303.206897  242.307692  197.060345   \n",
       "Parking Space              NaN         NaN         NaN  100.000000   \n",
       "Serviced apartment  129.000000         NaN  135.000000  143.800000   \n",
       "Tent                       NaN         NaN         NaN   72.375000   \n",
       "Timeshare           265.000000         NaN         NaN         NaN   \n",
       "Tipi                       NaN         NaN         NaN  232.333333   \n",
       "Townhouse           197.796296  165.885246  238.120588  141.521079   \n",
       "Train                      NaN         NaN  170.000000  195.000000   \n",
       "Treehouse                  NaN         NaN   25.000000  368.500000   \n",
       "Vacation home              NaN  389.000000         NaN  266.000000   \n",
       "Villa               125.000000   33.000000  160.000000  424.548387   \n",
       "Yurt                       NaN         NaN         NaN  160.666667   \n",
       "\n",
       "city                       NYC           SF  \n",
       "property_type                                \n",
       "Apartment           139.850646   215.796375  \n",
       "Bed & Breakfast     134.021053   150.196078  \n",
       "Boat                146.000000   404.000000  \n",
       "Boutique hotel      347.812500   202.142857  \n",
       "Bungalow            144.166667   227.000000  \n",
       "Cabin               176.666667   154.714286  \n",
       "Camper/RV                  NaN   160.400000  \n",
       "Casa particular            NaN          NaN  \n",
       "Castle              175.000000   228.333333  \n",
       "Cave                       NaN   147.000000  \n",
       "Chalet              150.000000          NaN  \n",
       "Condominium         215.969412   276.100200  \n",
       "Dorm                 73.000000    84.333333  \n",
       "Earth House         275.000000          NaN  \n",
       "Guest suite         140.153846   150.413043  \n",
       "Guesthouse          100.343750   159.214286  \n",
       "Hostel               76.750000    79.500000  \n",
       "House               131.199628   241.306519  \n",
       "Hut                        NaN          NaN  \n",
       "In-law              116.000000   152.450980  \n",
       "Island                     NaN          NaN  \n",
       "Lighthouse                 NaN          NaN  \n",
       "Loft                207.028526   273.776471  \n",
       "Other               196.068627   266.416667  \n",
       "Parking Space              NaN          NaN  \n",
       "Serviced apartment  225.625000  1200.000000  \n",
       "Tent                250.000000    98.000000  \n",
       "Timeshare           328.590909   288.400000  \n",
       "Tipi                       NaN          NaN  \n",
       "Townhouse           190.401338   195.717391  \n",
       "Train                      NaN          NaN  \n",
       "Treehouse                  NaN   227.500000  \n",
       "Vacation home       265.666667          NaN  \n",
       "Villa               130.846154    99.000000  \n",
       "Yurt                 95.000000   206.000000  "
      ]
     },
     "execution_count": 9,
     "metadata": {},
     "output_type": "execute_result"
    }
   ],
   "source": [
    "train_df.pivot_table(values='int_price',index='property_type',columns='city')"
   ]
  },
  {
   "cell_type": "code",
   "execution_count": 10,
   "metadata": {},
   "outputs": [
    {
     "data": {
      "image/png": "[encoded data removed]",
      "text/plain": [
       "<Figure size 1440x720 with 2 Axes>"
      ]
     },
     "metadata": {},
     "output_type": "display_data"
    }
   ],
   "source": [
    "plt.figure(figsize=(20,10))\n",
    "pivot_df = train_df.pivot_table(values='int_price',index='property_type',columns='city')\n",
    "plot2 = sns.heatmap(pivot_df)\n",
    "fig = plot2.get_figure()\n",
    "fig.savefig('./plot2.png')"
   ]
  },
  {
   "cell_type": "markdown",
   "metadata": {},
   "source": [
    "### 3.c) Plot 3: Price variation for Property Type as per Accomodates"
   ]
  },
  {
   "cell_type": "code",
   "execution_count": 11,
   "metadata": {},
   "outputs": [
    {
     "data": {
      "image/png": "[encoded data removed]",
      "text/plain": [
       "<Figure size 1440x720 with 2 Axes>"
      ]
     },
     "metadata": {},
     "output_type": "display_data"
    }
   ],
   "source": [
    "plt.figure(figsize=(20,10))\n",
    "pivot_df = train_df.pivot_table(values='int_price',index='property_type',columns='accommodates')\n",
    "plot3 = sns.heatmap(pivot_df)\n",
    "fig = plot3.get_figure()\n",
    "fig.savefig('./plot3.png')"
   ]
  },
  {
   "cell_type": "markdown",
   "metadata": {},
   "source": [
    "## 4. Data Preprocessing"
   ]
  },
  {
   "cell_type": "code",
   "execution_count": 12,
   "metadata": {},
   "outputs": [],
   "source": [
    "# For simplicity, save the Dataframe obtained after filling missing values and use it for further process\n",
    "train_df.to_csv('./airbnb-listings-in-major-us-cities-deloitte-ml/new_train.csv', encoding='utf-8', index=False)\n",
    "test_df.to_csv('./airbnb-listings-in-major-us-cities-deloitte-ml/new_test.csv', encoding='utf-8', index=False)"
   ]
  },
  {
   "cell_type": "code",
   "execution_count": 13,
   "metadata": {},
   "outputs": [],
   "source": [
    "# importing 'new_train.csv' and 'new_test.csv' \n",
    "Rtrain_df = pd.read_csv('./airbnb-listings-in-major-us-cities-deloitte-ml/new_train.csv')\n",
    "Rtest_df = pd.read_csv('./airbnb-listings-in-major-us-cities-deloitte-ml/new_test.csv')"
   ]
  },
  {
   "cell_type": "markdown",
   "metadata": {},
   "source": [
    "### 4.a) Dropping out features that has no effect on pricing"
   ]
  },
  {
   "cell_type": "code",
   "execution_count": 14,
   "metadata": {},
   "outputs": [],
   "source": [
    "Rtrain_df.drop(['int_price'], axis =1, inplace=True)\n",
    "\n",
    "Rtrain_df.drop(['id'], axis =1, inplace=True)\n",
    "Rtest_df.drop(['id'], axis =1, inplace=True)\n",
    "\n",
    "Rtrain_df.drop(['log_price'], axis =1, inplace=True)\n",
    "\n",
    "Rtrain_df.drop(['neighbourhood'], axis =1, inplace=True)\n",
    "Rtest_df.drop(['neighbourhood'], axis =1, inplace=True)\n",
    "\n",
    "Rtrain_df.drop(['description'], axis =1, inplace=True)\n",
    "Rtest_df.drop(['description'], axis =1, inplace=True)\n",
    "\n",
    "Rtrain_df.drop(['first_review'], axis =1, inplace=True)\n",
    "Rtest_df.drop(['first_review'], axis =1, inplace=True)\n",
    "\n",
    "Rtrain_df.drop(['last_review'], axis =1, inplace=True)\n",
    "Rtest_df.drop(['last_review'], axis =1, inplace=True)\n",
    "\n",
    "Rtrain_df.drop(['host_since'], axis =1, inplace=True)\n",
    "Rtest_df.drop(['host_since'], axis =1, inplace=True)\n",
    "\n",
    "Rtrain_df.drop(['thumbnail_url'], axis =1, inplace=True)\n",
    "Rtest_df.drop(['thumbnail_url'], axis =1, inplace=True)\n",
    "\n",
    "Rtrain_df.drop(['zipcode'], axis =1, inplace=True)\n",
    "Rtest_df.drop(['zipcode'], axis =1, inplace=True)\n",
    "\n",
    "Rtrain_df.drop(['amenities'], axis =1, inplace=True)\n",
    "Rtest_df.drop(['amenities'], axis =1, inplace=True)\n",
    "\n",
    "Rtrain_df.drop(['name'], axis =1, inplace=True)\n",
    "Rtest_df.drop(['name'], axis =1, inplace=True)\n",
    "\n",
    "Rtrain_df.drop(['latitude'], axis =1, inplace=True)\n",
    "Rtest_df.drop(['latitude'], axis =1, inplace=True)\n",
    "\n",
    "Rtrain_df.drop(['longitude'], axis =1, inplace=True)\n",
    "Rtest_df.drop(['longitude'], axis =1, inplace=True)\n",
    "\n",
    "Rtrain_df.drop(['instant_bookable'], axis =1, inplace=True)\n",
    "Rtest_df.drop(['instant_bookable'], axis =1, inplace=True)"
   ]
  },
  {
   "cell_type": "code",
   "execution_count": 15,
   "metadata": {},
   "outputs": [
    {
     "data": {
      "text/plain": [
       "property_type              object\n",
       "room_type                  object\n",
       "accommodates                int64\n",
       "bathrooms                 float64\n",
       "bed_type                   object\n",
       "cancellation_policy        object\n",
       "cleaning_fee                 bool\n",
       "city                       object\n",
       "host_has_profile_pic        int64\n",
       "host_identity_verified      int64\n",
       "host_response_rate          int64\n",
       "number_of_reviews           int64\n",
       "review_scores_rating      float64\n",
       "bedrooms                  float64\n",
       "beds                      float64\n",
       "dtype: object"
      ]
     },
     "execution_count": 15,
     "metadata": {},
     "output_type": "execute_result"
    }
   ],
   "source": [
    "Rtrain_df.dtypes"
   ]
  },
  {
   "cell_type": "code",
   "execution_count": 16,
   "metadata": {},
   "outputs": [
    {
     "name": "stdout",
     "output_type": "stream",
     "text": [
      "(74111, 15)\n",
      "(25458, 15)\n"
     ]
    }
   ],
   "source": [
    "rtrain_df = Rtrain_df.copy()\n",
    "rtest_df = Rtest_df.copy()\n",
    "print(rtrain_df.shape)\n",
    "print(rtest_df.shape)"
   ]
  },
  {
   "cell_type": "markdown",
   "metadata": {},
   "source": [
    "### 4.b) One Hot Encoding required features from Train and Test Data "
   ]
  },
  {
   "cell_type": "code",
   "execution_count": 17,
   "metadata": {},
   "outputs": [],
   "source": [
    "def one_hot(train_df,test_df,columns):\n",
    "    \n",
    "    for i,column in enumerate(columns):\n",
    "        Xtrain = train_df[str(column)].T\n",
    "        Xtest = test_df[str(column)].T\n",
    "        \n",
    "        # train_df\n",
    "        lb=LabelBinarizer()\n",
    "        lb.fit(Xtrain)\n",
    "        X_classes = len(lb.classes_)\n",
    "        Xenc = lb.transform(Xtrain)\n",
    "        Xtrain_enc = pd.DataFrame(data = Xenc, columns = lb.classes_)\n",
    "        train_df.drop([str(column)], axis =1, inplace=True)\n",
    "        \n",
    "        # test_df\n",
    "        Xenc = lb.transform(Xtest)\n",
    "        Xtest_enc = pd.DataFrame(data = Xenc, columns = lb.classes_)\n",
    "        test_df.drop([str(column)], axis =1, inplace=True)\n",
    "        \n",
    "        print('Number of classes in '+str(column)+ ' = '+ str(X_classes))\n",
    "        train_df = pd.concat((train_df,Xtrain_enc),axis=1)\n",
    "        test_df = pd.concat((test_df,Xtest_enc),axis=1) \n",
    "    return train_df,test_df"
   ]
  },
  {
   "cell_type": "code",
   "execution_count": 18,
   "metadata": {},
   "outputs": [
    {
     "name": "stdout",
     "output_type": "stream",
     "text": [
      "Number of classes in city = 6\n",
      "Number of classes in property_type = 35\n",
      "Number of classes in room_type = 3\n",
      "Number of classes in bed_type = 5\n",
      "Number of classes in cancellation_policy = 5\n",
      "Number of classes in host_response_rate = 80\n"
     ]
    }
   ],
   "source": [
    "r_train_df , r_test_df = one_hot(rtrain_df,rtest_df,['city','property_type', 'room_type', 'bed_type', 'cancellation_policy', 'host_response_rate'])"
   ]
  },
  {
   "cell_type": "code",
   "execution_count": 19,
   "metadata": {},
   "outputs": [
    {
     "name": "stdout",
     "output_type": "stream",
     "text": [
      "(25458, 143)\n",
      "(74111, 143)\n"
     ]
    }
   ],
   "source": [
    "print(r_test_df.shape)\n",
    "print(r_train_df.shape)"
   ]
  },
  {
   "cell_type": "markdown",
   "metadata": {},
   "source": [
    "## 5. Feature Selection\n",
    "### 5.a) Principal Component Analysis (PCA):"
   ]
  },
  {
   "cell_type": "code",
   "execution_count": 20,
   "metadata": {},
   "outputs": [
    {
     "data": {
      "text/plain": [
       "(74111, 143)"
      ]
     },
     "execution_count": 20,
     "metadata": {},
     "output_type": "execute_result"
    }
   ],
   "source": [
    "pca = PCA()\n",
    "pca_fit = pca.fit_transform(r_train_df)\n",
    "pca_fit.shape"
   ]
  },
  {
   "cell_type": "markdown",
   "metadata": {},
   "source": [
    "### 5.b) Stepwise Forward Feature Selection:"
   ]
  },
  {
   "cell_type": "code",
   "execution_count": 324,
   "metadata": {},
   "outputs": [
    {
     "name": "stderr",
     "output_type": "stream",
     "text": [
      "\n",
      "STOPPING EARLY DUE TO KEYBOARD INTERRUPT..."
     ]
    }
   ],
   "source": [
    "# linearReg = LinearRegression()\n",
    "# stepfs = sfs(lr, k_features=100, forward=True, floating=False, scoring='neg_mean_squared_error', cv=10)\n",
    "# stepfs = sfs.fit(new_df2, train_df['log_price'])"
   ]
  },
  {
   "cell_type": "code",
   "execution_count": 345,
   "metadata": {},
   "outputs": [
    {
     "data": {
      "text/plain": [
       "<Figure size 1440x2880 with 0 Axes>"
      ]
     },
     "metadata": {},
     "output_type": "display_data"
    },
    {
     "data": {
      "image/png": "[encoded data removed]",
      "text/plain": [
       "<Figure size 432x288 with 1 Axes>"
      ]
     },
     "metadata": {},
     "output_type": "display_data"
    }
   ],
   "source": [
    "# metric_dict = sfs.get_metric_dict()\n",
    "# plt.figure(figsize=(20,40))\n",
    "# fig = plot_sfs(metric_dict, kind='std_err')\n",
    "# plt.title('Sequential Forward Selection (w. StdErr)')\n",
    "# plt.grid()\n",
    "# plt.show()"
   ]
  },
  {
   "cell_type": "markdown",
   "metadata": {},
   "source": [
    "## 6. Model Implementation\n",
    "### 6.a) Linear Regression"
   ]
  },
  {
   "cell_type": "code",
   "execution_count": 21,
   "metadata": {},
   "outputs": [],
   "source": [
    "X = pca_fit\n",
    "y = train_df['log_price']"
   ]
  },
  {
   "cell_type": "code",
   "execution_count": 22,
   "metadata": {},
   "outputs": [
    {
     "name": "stdout",
     "output_type": "stream",
     "text": [
      "R square score =  0.5654012746245745\n",
      "MSE =  0.22192318944278713\n",
      "R square score =  0.5633148730897317\n",
      "MSE =  0.22458644011037973\n",
      "R square score =  -131590731668546.31\n",
      "MSE =  66091322332642.16\n",
      "R square score =  0.5453933377616134\n",
      "MSE =  0.2297517249453151\n",
      "R square score =  0.5734704726216235\n",
      "MSE =  0.21939141230162723\n",
      "R square score =  0.5574586725719507\n",
      "MSE =  0.2253363724737585\n",
      "R square score =  -1.1335300251717886e+19\n",
      "MSE =  5.882620688230396e+18\n",
      "R square score =  0.5691584675030794\n",
      "MSE =  0.22833979911279698\n",
      "R square score =  0.5675132988821144\n",
      "MSE =  0.22265125246968148\n",
      "R square score =  0.5611401820887367\n",
      "MSE =  0.23100361874309633\n",
      "*---------------------------*\n",
      "Average Rscore =  -1.1335431842449555e+18\n",
      "Average MSE =  5.882686779552728e+17\n"
     ]
    }
   ],
   "source": [
    "kfold = KFold(n_splits=10,random_state=56,shuffle=True)\n",
    "average = 0\n",
    "average1 = 0\n",
    "for train_idx, test_idx in kfold.split(X,y):    \n",
    "    X_train, X_CV = X[train_idx], X[test_idx]\n",
    "    y_train, y_CV = y[train_idx], y[test_idx]\n",
    "    \n",
    "    lr = LinearRegression()\n",
    "    lr.fit(X_train, y_train)\n",
    "        \n",
    "    pred_CV = lr.predict(X_CV)\n",
    "    MSE = mse(y_CV, pred_CV)\n",
    "    average = average + MSE\n",
    "\n",
    "    score = lr.score(X_CV, y_CV)\n",
    "    average1 = average1 + score\n",
    "    \n",
    "    print('R square score = ',score)\n",
    "    print('MSE = ',MSE)\n",
    "\n",
    "MSE_AVG = average/10\n",
    "Rscore_AVG = average1/10\n",
    "print('*---------------------------*')\n",
    "print('Average Rscore = ', Rscore_AVG)\n",
    "print('Average MSE = ',MSE_AVG)"
   ]
  },
  {
   "cell_type": "markdown",
   "metadata": {},
   "source": [
    "### 6.b) Ridge Regression:"
   ]
  },
  {
   "cell_type": "code",
   "execution_count": 23,
   "metadata": {},
   "outputs": [
    {
     "name": "stdout",
     "output_type": "stream",
     "text": [
      "R square score =  0.5654560665468353\n",
      "MSE =  0.22189521053389058\n",
      "R square score =  0.5633846563828384\n",
      "MSE =  0.22455055067789798\n",
      "R square score =  0.5602826721635872\n",
      "MSE =  0.22084761807149897\n",
      "R square score =  0.5454209231397408\n",
      "MSE =  0.2297377836885441\n",
      "R square score =  0.5735818788292762\n",
      "MSE =  0.21933410896465463\n",
      "R square score =  0.5575218206199788\n",
      "MSE =  0.22530421829698555\n",
      "R square score =  0.5811691171337385\n",
      "MSE =  0.2173584432441897\n",
      "R square score =  0.5690972644447891\n",
      "MSE =  0.22837223585108937\n",
      "R square score =  0.5675170062627048\n",
      "MSE =  0.22264934384930152\n",
      "R square score =  0.561272329964992\n",
      "MSE =  0.23093405977146503\n",
      "*---------------------------*\n",
      "Average Rscore =  0.5644703735488481\n",
      "Average MSE =  0.22409835729495176\n"
     ]
    }
   ],
   "source": [
    "kfold = KFold(n_splits=10,random_state=56,shuffle=True)\n",
    "average = 0\n",
    "average1 = 0\n",
    "\n",
    "for train_idx, test_idx in kfold.split(X,y):    \n",
    "    \n",
    "    X_train, X_CV = X[train_idx], X[test_idx]\n",
    "    y_train, y_CV = y[train_idx], y[test_idx]\n",
    "    \n",
    "    ridge = Ridge()\n",
    "    ridge.fit(X_train, y_train)\n",
    "    \n",
    "    pred_CV = ridge.predict(X_CV)\n",
    "    MSE = mse(y_CV, pred_CV)\n",
    "    average = average + MSE\n",
    "    \n",
    "    score = ridge.score(X_CV, y_CV)\n",
    "    average1 = average1 + score\n",
    "    \n",
    "    print('R square score = ',score)\n",
    "    print('MSE = ',MSE)\n",
    "\n",
    "MSE_AVG = average/10\n",
    "Rscore_AVG = average1/10\n",
    "print('*---------------------------*')\n",
    "print('Average Rscore = ', Rscore_AVG)\n",
    "print('Average MSE = ', MSE_AVG)"
   ]
  },
  {
   "cell_type": "markdown",
   "metadata": {},
   "source": [
    "### 6.c) Lasso Regression:"
   ]
  },
  {
   "cell_type": "code",
   "execution_count": 24,
   "metadata": {},
   "outputs": [
    {
     "name": "stdout",
     "output_type": "stream",
     "text": [
      "R square score =  0.5654415756275892\n",
      "MSE =  0.22190261016676868\n",
      "R square score =  0.5629981681267104\n",
      "MSE =  0.22474932095020472\n",
      "R square score =  0.5600607762377265\n",
      "MSE =  0.2209590650934465\n",
      "R square score =  0.5447123738571393\n",
      "MSE =  0.2300958743929014\n",
      "R square score =  0.5731701348429818\n",
      "MSE =  0.21954589522764817\n",
      "R square score =  0.5577467483071019\n",
      "MSE =  0.2251896880012959\n",
      "R square score =  0.5804463874292832\n",
      "MSE =  0.21773351444804107\n",
      "R square score =  0.5688152471056503\n",
      "MSE =  0.22852170097389693\n",
      "R square score =  0.5670218191034142\n",
      "MSE =  0.22290427432678897\n",
      "R square score =  0.56111105352176\n",
      "MSE =  0.23101895121170193\n",
      "*---------------------------*\n",
      "Average Rscore =  0.5641524284159356\n",
      "Average MSE =  0.22426208947926943\n"
     ]
    }
   ],
   "source": [
    "kfold = KFold(n_splits=10,random_state=56,shuffle=True)\n",
    "average = 0\n",
    "average1 = 0\n",
    "\n",
    "for train_idx, test_idx in kfold.split(X,y):    \n",
    "    \n",
    "    X_train, X_CV = X[train_idx], X[test_idx]\n",
    "    y_train, y_CV = y[train_idx], y[test_idx]\n",
    "    \n",
    "    lasso = Lasso(0.0001)\n",
    "    lasso.fit(X_train, y_train)\n",
    "        \n",
    "    pred_CV = lasso.predict(X_CV)\n",
    "    MSE = mse(y_CV, pred_CV)\n",
    "    average = average + MSE\n",
    "    \n",
    "    score = lasso.score(X_CV, y_CV)\n",
    "    average1 = average1 + score\n",
    "    \n",
    "    print('R square score = ',score)\n",
    "    print('MSE = ',MSE)\n",
    "\n",
    "MSE_AVG = average/10\n",
    "Rscore_AVG = average1/10\n",
    "print('*---------------------------*')\n",
    "print('Average Rscore = ', Rscore_AVG)\n",
    "print('Average MSE = ', MSE_AVG)"
   ]
  },
  {
   "cell_type": "markdown",
   "metadata": {},
   "source": [
    "## 7. Grid Search Technique"
   ]
  },
  {
   "cell_type": "code",
   "execution_count": 33,
   "metadata": {},
   "outputs": [
    {
     "name": "stdout",
     "output_type": "stream",
     "text": [
      "Best Hyper Parameters for Log Regression:\n",
      " {'alpha': 0.01}\n"
     ]
    }
   ],
   "source": [
    "parameters = {\"alpha\":np.logspace(-2,2,50)}\n",
    "lasso_grid = GridSearchCV(lasso, parameters, cv=10) \n",
    "lasso_grid.fit(X,y)\n",
    "\n",
    "print('Hyper Parameters for Lasso:\\n',lasso_grid.best_params_)\n",
    "print('Score for Hyper Parameters from Grid Search:',lasso_grid.best_score_)\n",
    "lasso_grid.cv_results_"
   ]
  },
  {
   "cell_type": "markdown",
   "metadata": {},
   "source": [
    "## 8. Predicting price for Test Dataset"
   ]
  },
  {
   "cell_type": "code",
   "execution_count": 25,
   "metadata": {},
   "outputs": [],
   "source": [
    "# implementing Model on entire train dataset and predicting prices for test dataset\n",
    "pca0 = PCA()\n",
    "pca0.fit(r_train_df)\n",
    "X_train = pca0.transform(r_train_df)\n",
    "y_train = train_df['log_price']\n",
    "\n",
    "X_test = pca0.transform(r_test_df)"
   ]
  },
  {
   "cell_type": "code",
   "execution_count": 26,
   "metadata": {},
   "outputs": [],
   "source": [
    "lasso = Lasso(0.0001)\n",
    "lasso.fit(X_train, y_train)\n",
    "\n",
    "# Prices predicted for test dataset is given by 'price_predicted'\n",
    "price_predicted = lasso.predict(X_test)"
   ]
  },
  {
   "cell_type": "code",
   "execution_count": 27,
   "metadata": {},
   "outputs": [
    {
     "name": "stdout",
     "output_type": "stream",
     "text": [
      "[4.12293926 4.97952909 4.4763032  ... 4.73559085 5.16852667 4.30827414]\n"
     ]
    }
   ],
   "source": [
    "print(price_predicted)"
   ]
  },
  {
   "cell_type": "code",
   "execution_count": null,
   "metadata": {},
   "outputs": [],
   "source": []
  }
 ],
 "metadata": {
  "kernelspec": {
   "display_name": "Python 3",
   "language": "python",
   "name": "python3"
  },
  "language_info": {
   "codemirror_mode": {
    "name": "ipython",
    "version": 3
   },
   "file_extension": ".py",
   "mimetype": "text/x-python",
   "name": "python",
   "nbconvert_exporter": "python",
   "pygments_lexer": "ipython3",
   "version": "3.6.5"
  },
  "widgets": {
   "state": {},
   "version": "1.1.2"
  }
 },
 "nbformat": 4,
 "nbformat_minor": 2
}
